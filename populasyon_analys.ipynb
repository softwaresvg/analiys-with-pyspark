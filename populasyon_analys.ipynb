{
 "cells": [
  {
   "cell_type": "code",
   "execution_count": 17,
   "metadata": {},
   "outputs": [],
   "source": [
    "import findspark"
   ]
  },
  {
   "cell_type": "code",
   "execution_count": 18,
   "metadata": {},
   "outputs": [],
   "source": [
    "findspark.init('C:\\spark')"
   ]
  },
  {
   "cell_type": "code",
   "execution_count": 19,
   "metadata": {},
   "outputs": [],
   "source": [
    "from pyspark.sql import SparkSession"
   ]
  },
  {
   "cell_type": "code",
   "execution_count": 20,
   "metadata": {},
   "outputs": [],
   "source": [
    "spark = SparkSession.builder.appName(\"Basics\").getOrCreate()"
   ]
  },
  {
   "cell_type": "code",
   "execution_count": 21,
   "metadata": {},
   "outputs": [],
   "source": [
    "dataset = spark.read.format(\"csv\").option(\"header\",\"true\").load(\"statesPopulation.csv\")"
   ]
  },
  {
   "cell_type": "code",
   "execution_count": 22,
   "metadata": {},
   "outputs": [
    {
     "name": "stdout",
     "output_type": "stream",
     "text": [
      "+--------------------+----+----------+\n",
      "|               State|Year|Population|\n",
      "+--------------------+----+----------+\n",
      "|             Alabama|2010|   4785492|\n",
      "|              Alaska|2010|    714031|\n",
      "|             Arizona|2010|   6408312|\n",
      "|            Arkansas|2010|   2921995|\n",
      "|          California|2010|  37332685|\n",
      "|            Colorado|2010|   5048644|\n",
      "|            Delaware|2010|    899816|\n",
      "|District of Columbia|2010|    605183|\n",
      "|             Florida|2010|  18849098|\n",
      "|             Georgia|2010|   9713521|\n",
      "|              Hawaii|2010|   1363945|\n",
      "|               Idaho|2010|   1571010|\n",
      "|            Illinois|2010|  12841578|\n",
      "|             Indiana|2010|   6490528|\n",
      "|                Iowa|2010|   3050738|\n",
      "|              Kansas|2010|   2858850|\n",
      "|            Kentucky|2010|   4348662|\n",
      "|           Louisiana|2010|   4544996|\n",
      "|               Maine|2010|   1327730|\n",
      "|            Maryland|2010|   5788584|\n",
      "+--------------------+----+----------+\n",
      "only showing top 20 rows\n",
      "\n"
     ]
    }
   ],
   "source": [
    "dataset.show()"
   ]
  },
  {
   "cell_type": "code",
   "execution_count": 23,
   "metadata": {},
   "outputs": [
    {
     "data": {
      "text/plain": [
       "StructType(List(StructField(State,StringType,true),StructField(Year,StringType,true),StructField(Population,StringType,true)))"
      ]
     },
     "execution_count": 23,
     "metadata": {},
     "output_type": "execute_result"
    }
   ],
   "source": [
    "dataset.schema"
   ]
  },
  {
   "cell_type": "code",
   "execution_count": 24,
   "metadata": {},
   "outputs": [
    {
     "name": "stdout",
     "output_type": "stream",
     "text": [
      "root\n",
      " |-- State: string (nullable = true)\n",
      " |-- Year: string (nullable = true)\n",
      " |-- Population: string (nullable = true)\n",
      "\n"
     ]
    }
   ],
   "source": [
    "dataset.printSchema()"
   ]
  },
  {
   "cell_type": "code",
   "execution_count": 25,
   "metadata": {},
   "outputs": [],
   "source": [
    "from pyspark.sql.types import(StructField, StringType,\n",
    "                                 FloatType,IntegerType, StructType)"
   ]
  },
  {
   "cell_type": "code",
   "execution_count": 26,
   "metadata": {},
   "outputs": [],
   "source": [
    "data_schema=[StructField(\"State\",StringType(),True),\n",
    "            StructField(\"Year\",StringType(),True),\n",
    "            StructField(\"Population\",FloatType(),True)]\n",
    "           "
   ]
  },
  {
   "cell_type": "code",
   "execution_count": 27,
   "metadata": {},
   "outputs": [],
   "source": [
    "final_struct = StructType(fields = data_schema)"
   ]
  },
  {
   "cell_type": "code",
   "execution_count": 28,
   "metadata": {},
   "outputs": [],
   "source": [
    "dataset = spark.read.format(\"csv\").option(\"header\",\"true\").schema(final_struct).load(\"statesPopulation.csv\")"
   ]
  },
  {
   "cell_type": "code",
   "execution_count": 29,
   "metadata": {},
   "outputs": [
    {
     "name": "stdout",
     "output_type": "stream",
     "text": [
      "root\n",
      " |-- State: string (nullable = true)\n",
      " |-- Year: string (nullable = true)\n",
      " |-- Population: float (nullable = true)\n",
      "\n"
     ]
    }
   ],
   "source": [
    "dataset.printSchema()"
   ]
  },
  {
   "cell_type": "code",
   "execution_count": 30,
   "metadata": {},
   "outputs": [
    {
     "name": "stdout",
     "output_type": "stream",
     "text": [
      "+--------------------+----+-----------+\n",
      "|               State|Year| Population|\n",
      "+--------------------+----+-----------+\n",
      "|             Alabama|2010|  4785492.0|\n",
      "|              Alaska|2010|   714031.0|\n",
      "|             Arizona|2010|  6408312.0|\n",
      "|            Arkansas|2010|  2921995.0|\n",
      "|          California|2010|3.7332684E7|\n",
      "|            Colorado|2010|  5048644.0|\n",
      "|            Delaware|2010|   899816.0|\n",
      "|District of Columbia|2010|   605183.0|\n",
      "|             Florida|2010|1.8849098E7|\n",
      "|             Georgia|2010|  9713521.0|\n",
      "|              Hawaii|2010|  1363945.0|\n",
      "|               Idaho|2010|  1571010.0|\n",
      "|            Illinois|2010|1.2841578E7|\n",
      "|             Indiana|2010|  6490528.0|\n",
      "|                Iowa|2010|  3050738.0|\n",
      "|              Kansas|2010|  2858850.0|\n",
      "|            Kentucky|2010|  4348662.0|\n",
      "|           Louisiana|2010|  4544996.0|\n",
      "|               Maine|2010|  1327730.0|\n",
      "|            Maryland|2010|  5788584.0|\n",
      "+--------------------+----+-----------+\n",
      "only showing top 20 rows\n",
      "\n"
     ]
    }
   ],
   "source": [
    "dataset.show()"
   ]
  },
  {
   "cell_type": "code",
   "execution_count": 31,
   "metadata": {},
   "outputs": [],
   "source": [
    "import pandas as pd"
   ]
  },
  {
   "cell_type": "code",
   "execution_count": 33,
   "metadata": {},
   "outputs": [
    {
     "name": "stdout",
     "output_type": "stream",
     "text": [
      "+--------------------+\n",
      "|               State|\n",
      "+--------------------+\n",
      "|                Utah|\n",
      "|              Hawaii|\n",
      "|           Minnesota|\n",
      "|                Ohio|\n",
      "|            Arkansas|\n",
      "|              Oregon|\n",
      "|               Texas|\n",
      "|        North Dakota|\n",
      "|        Pennsylvania|\n",
      "|            Nebraska|\n",
      "|             Vermont|\n",
      "|              Nevada|\n",
      "|          Washington|\n",
      "|            Illinois|\n",
      "|            Oklahoma|\n",
      "|District of Columbia|\n",
      "|            Delaware|\n",
      "|              Alaska|\n",
      "|          New Mexico|\n",
      "|       West Virginia|\n",
      "|            Missouri|\n",
      "|        Rhode Island|\n",
      "|             Georgia|\n",
      "|             Montana|\n",
      "|            Michigan|\n",
      "|            Virginia|\n",
      "|      North Carolina|\n",
      "|             Wyoming|\n",
      "|              Kansas|\n",
      "|          New Jersey|\n",
      "|            Maryland|\n",
      "|             Alabama|\n",
      "|             Arizona|\n",
      "|                Iowa|\n",
      "|       Massachusetts|\n",
      "|            Kentucky|\n",
      "|           Louisiana|\n",
      "|         Mississippi|\n",
      "|       New Hampshire|\n",
      "|           Tennessee|\n",
      "|             Florida|\n",
      "|             Indiana|\n",
      "|               Idaho|\n",
      "|      South Carolina|\n",
      "|        South Dakota|\n",
      "|          California|\n",
      "|            New York|\n",
      "|           Wisconsin|\n",
      "|            Colorado|\n",
      "|               Maine|\n",
      "+--------------------+\n",
      "\n"
     ]
    }
   ],
   "source": [
    "dfstate=dataset.select(\"State\").distinct().show(100)"
   ]
  },
  {
   "cell_type": "code",
   "execution_count": 34,
   "metadata": {},
   "outputs": [
    {
     "data": {
      "text/plain": [
       "NoneType"
      ]
     },
     "execution_count": 34,
     "metadata": {},
     "output_type": "execute_result"
    }
   ],
   "source": [
    "type(dfstate)"
   ]
  },
  {
   "cell_type": "code",
   "execution_count": 45,
   "metadata": {},
   "outputs": [],
   "source": [
    "dataset.createOrReplaceTempView(\"states\")\n",
    "dfstate = spark.sql(\"SELECT State,Sum(Population) FROM states GROUP BY State ORDER BY State asc\")"
   ]
  },
  {
   "cell_type": "code",
   "execution_count": 46,
   "metadata": {},
   "outputs": [
    {
     "name": "stdout",
     "output_type": "stream",
     "text": [
      "+--------------------+---------------+\n",
      "|               State|sum(Population)|\n",
      "+--------------------+---------------+\n",
      "|             Alabama|    3.3771238E7|\n",
      "|              Alaska|      5121020.0|\n",
      "|             Arizona|    4.6518355E7|\n",
      "|            Arkansas|    2.0703849E7|\n",
      "|          California|   2.68280584E8|\n",
      "|            Colorado|    3.6963486E7|\n",
      "|            Delaware|      6481217.0|\n",
      "|District of Columbia|      4520704.0|\n",
      "|             Florida|   1.37618322E8|\n",
      "|             Georgia|    7.0021737E7|\n",
      "|              Hawaii|      9810173.0|\n",
      "|               Idaho|    1.1332575E7|\n",
      "|            Illinois|    8.9960023E7|\n",
      "|             Indiana|    4.5954907E7|\n",
      "|                Iowa|    2.1648921E7|\n",
      "|              Kansas|    2.0219806E7|\n",
      "|            Kentucky|    3.0777934E7|\n",
      "|           Louisiana|    3.2348737E7|\n",
      "|               Maine|      9305583.0|\n",
      "|            Maryland|    4.1431692E7|\n",
      "+--------------------+---------------+\n",
      "only showing top 20 rows\n",
      "\n"
     ]
    }
   ],
   "source": [
    "dfstate.show()"
   ]
  },
  {
   "cell_type": "code",
   "execution_count": 39,
   "metadata": {},
   "outputs": [
    {
     "name": "stdout",
     "output_type": "stream",
     "text": [
      "+----------+-----------+\n",
      "|     State| Population|\n",
      "+----------+-----------+\n",
      "|California|3.9250016E7|\n",
      "|California| 3.899394E7|\n",
      "|California|3.8680808E7|\n",
      "|California|3.8335204E7|\n",
      "|California|3.8011072E7|\n",
      "|California| 3.767686E7|\n",
      "|California|3.7332684E7|\n",
      "|     Texas|2.7862596E7|\n",
      "|     Texas| 2.742964E7|\n",
      "|     Texas|2.6944752E7|\n",
      "|     Texas|2.6473524E7|\n",
      "|     Texas|2.6071656E7|\n",
      "|     Texas|2.5646388E7|\n",
      "|     Texas| 2.524431E7|\n",
      "|   Florida| 2.061244E7|\n",
      "|   Florida|2.0244914E7|\n",
      "|   Florida| 1.988874E7|\n",
      "|  New York|1.9747184E7|\n",
      "|  New York|1.9745288E7|\n",
      "|  New York|1.9718516E7|\n",
      "+----------+-----------+\n",
      "only showing top 20 rows\n",
      "\n"
     ]
    }
   ],
   "source": [
    "dataset.orderBy(dataset[\"Population\"].desc()).select([\"State\", \"Population\"]).show()"
   ]
  },
  {
   "cell_type": "code",
   "execution_count": null,
   "metadata": {},
   "outputs": [],
   "source": []
  },
  {
   "cell_type": "code",
   "execution_count": null,
   "metadata": {},
   "outputs": [],
   "source": []
  },
  {
   "cell_type": "code",
   "execution_count": null,
   "metadata": {},
   "outputs": [],
   "source": []
  },
  {
   "cell_type": "code",
   "execution_count": null,
   "metadata": {},
   "outputs": [],
   "source": []
  },
  {
   "cell_type": "code",
   "execution_count": null,
   "metadata": {},
   "outputs": [],
   "source": []
  },
  {
   "cell_type": "code",
   "execution_count": null,
   "metadata": {},
   "outputs": [],
   "source": []
  },
  {
   "cell_type": "code",
   "execution_count": null,
   "metadata": {},
   "outputs": [],
   "source": []
  },
  {
   "cell_type": "code",
   "execution_count": null,
   "metadata": {},
   "outputs": [],
   "source": []
  },
  {
   "cell_type": "code",
   "execution_count": null,
   "metadata": {},
   "outputs": [],
   "source": []
  }
 ],
 "metadata": {
  "kernelspec": {
   "display_name": "Python 2",
   "language": "python",
   "name": "python2"
  },
  "language_info": {
   "codemirror_mode": {
    "name": "ipython",
    "version": 2
   },
   "file_extension": ".py",
   "mimetype": "text/x-python",
   "name": "python",
   "nbconvert_exporter": "python",
   "pygments_lexer": "ipython2",
   "version": "2.7.15"
  }
 },
 "nbformat": 4,
 "nbformat_minor": 2
}
